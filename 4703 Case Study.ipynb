{
 "cells": [
  {
   "cell_type": "markdown",
   "id": "592e73f6",
   "metadata": {},
   "source": [
    "# IEOR4703 Monte Carlo Case Study - 2 May 2022\n",
    "\n",
    "Chun Yat Yeung (cy2623)"
   ]
  },
  {
   "cell_type": "markdown",
   "id": "39f6eb83",
   "metadata": {},
   "source": [
    "# Setup"
   ]
  },
  {
   "cell_type": "code",
   "execution_count": 1,
   "id": "43a7003a",
   "metadata": {},
   "outputs": [],
   "source": [
    "import numpy as np\n",
    "import pandas as pd\n",
    "import matplotlib.pyplot as plt\n",
    "from tqdm import tqdm\n",
    "from scipy.stats import norm, t, gaussian_kde"
   ]
  },
  {
   "cell_type": "code",
   "execution_count": 2,
   "id": "c0572da5",
   "metadata": {},
   "outputs": [
    {
     "data": {
      "text/html": [
       "<div>\n",
       "<style scoped>\n",
       "    .dataframe tbody tr th:only-of-type {\n",
       "        vertical-align: middle;\n",
       "    }\n",
       "\n",
       "    .dataframe tbody tr th {\n",
       "        vertical-align: top;\n",
       "    }\n",
       "\n",
       "    .dataframe thead th {\n",
       "        text-align: right;\n",
       "    }\n",
       "</style>\n",
       "<table border=\"1\" class=\"dataframe\">\n",
       "  <thead>\n",
       "    <tr style=\"text-align: right;\">\n",
       "      <th></th>\n",
       "      <th>B23409</th>\n",
       "      <th>B00367</th>\n",
       "      <th>B13847</th>\n",
       "      <th>B15553</th>\n",
       "      <th>B10749</th>\n",
       "      <th>B03605</th>\n",
       "      <th>B17517</th>\n",
       "      <th>B05851</th>\n",
       "      <th>B12869</th>\n",
       "      <th>B20167</th>\n",
       "      <th>B18365</th>\n",
       "      <th>B21754</th>\n",
       "      <th>B21401</th>\n",
       "      <th>B21937</th>\n",
       "      <th>B21046</th>\n",
       "      <th>B18646</th>\n",
       "      <th>B11920</th>\n",
       "      <th>B20159</th>\n",
       "      <th>B07325</th>\n",
       "      <th>B21967</th>\n",
       "    </tr>\n",
       "  </thead>\n",
       "  <tbody>\n",
       "    <tr>\n",
       "      <th>2005-12-31</th>\n",
       "      <td>12.88289</td>\n",
       "      <td>35.55018</td>\n",
       "      <td>11.50636</td>\n",
       "      <td>13.29872</td>\n",
       "      <td>25.17435</td>\n",
       "      <td>19.75900</td>\n",
       "      <td>10.44675</td>\n",
       "      <td>30.24456</td>\n",
       "      <td>10.00</td>\n",
       "      <td>246.50262</td>\n",
       "      <td>51.20245</td>\n",
       "      <td>28.29245</td>\n",
       "      <td>71.00312</td>\n",
       "      <td>13.33306</td>\n",
       "      <td>21.25487</td>\n",
       "      <td>12.79461</td>\n",
       "      <td>18.93086</td>\n",
       "      <td>156.02005</td>\n",
       "      <td>23.07846</td>\n",
       "      <td>25.53953</td>\n",
       "    </tr>\n",
       "    <tr>\n",
       "      <th>2006-01-01</th>\n",
       "      <td>12.88289</td>\n",
       "      <td>35.55018</td>\n",
       "      <td>11.50636</td>\n",
       "      <td>13.29872</td>\n",
       "      <td>25.17435</td>\n",
       "      <td>19.75900</td>\n",
       "      <td>10.44675</td>\n",
       "      <td>30.24456</td>\n",
       "      <td>10.00</td>\n",
       "      <td>246.50262</td>\n",
       "      <td>51.20245</td>\n",
       "      <td>28.29245</td>\n",
       "      <td>71.00312</td>\n",
       "      <td>13.33306</td>\n",
       "      <td>21.25487</td>\n",
       "      <td>12.79461</td>\n",
       "      <td>18.93086</td>\n",
       "      <td>156.02005</td>\n",
       "      <td>23.07846</td>\n",
       "      <td>25.53953</td>\n",
       "    </tr>\n",
       "    <tr>\n",
       "      <th>2006-01-02</th>\n",
       "      <td>12.88289</td>\n",
       "      <td>35.55018</td>\n",
       "      <td>11.50636</td>\n",
       "      <td>13.29872</td>\n",
       "      <td>25.17435</td>\n",
       "      <td>19.75900</td>\n",
       "      <td>10.44675</td>\n",
       "      <td>30.24456</td>\n",
       "      <td>10.00</td>\n",
       "      <td>246.50262</td>\n",
       "      <td>51.20245</td>\n",
       "      <td>28.29245</td>\n",
       "      <td>71.00312</td>\n",
       "      <td>13.33306</td>\n",
       "      <td>21.25487</td>\n",
       "      <td>12.79461</td>\n",
       "      <td>18.93086</td>\n",
       "      <td>156.02005</td>\n",
       "      <td>23.07846</td>\n",
       "      <td>25.53953</td>\n",
       "    </tr>\n",
       "    <tr>\n",
       "      <th>2006-01-03</th>\n",
       "      <td>13.08824</td>\n",
       "      <td>35.60458</td>\n",
       "      <td>11.57815</td>\n",
       "      <td>13.52239</td>\n",
       "      <td>25.56893</td>\n",
       "      <td>20.38565</td>\n",
       "      <td>10.75808</td>\n",
       "      <td>30.26963</td>\n",
       "      <td>10.16</td>\n",
       "      <td>235.42289</td>\n",
       "      <td>51.59738</td>\n",
       "      <td>28.32407</td>\n",
       "      <td>71.96846</td>\n",
       "      <td>13.52990</td>\n",
       "      <td>21.32307</td>\n",
       "      <td>12.95087</td>\n",
       "      <td>18.98386</td>\n",
       "      <td>156.34645</td>\n",
       "      <td>23.76154</td>\n",
       "      <td>26.36954</td>\n",
       "    </tr>\n",
       "    <tr>\n",
       "      <th>2006-01-04</th>\n",
       "      <td>13.17470</td>\n",
       "      <td>35.63178</td>\n",
       "      <td>11.58840</td>\n",
       "      <td>13.60373</td>\n",
       "      <td>25.63469</td>\n",
       "      <td>20.69897</td>\n",
       "      <td>10.89644</td>\n",
       "      <td>30.30422</td>\n",
       "      <td>10.23</td>\n",
       "      <td>234.30632</td>\n",
       "      <td>51.67636</td>\n",
       "      <td>28.32749</td>\n",
       "      <td>72.50194</td>\n",
       "      <td>13.58170</td>\n",
       "      <td>21.37990</td>\n",
       "      <td>13.02773</td>\n",
       "      <td>19.07706</td>\n",
       "      <td>155.77525</td>\n",
       "      <td>24.02989</td>\n",
       "      <td>26.80495</td>\n",
       "    </tr>\n",
       "  </tbody>\n",
       "</table>\n",
       "</div>"
      ],
      "text/plain": [
       "              B23409    B00367    B13847    B15553    B10749    B03605  \\\n",
       "2005-12-31  12.88289  35.55018  11.50636  13.29872  25.17435  19.75900   \n",
       "2006-01-01  12.88289  35.55018  11.50636  13.29872  25.17435  19.75900   \n",
       "2006-01-02  12.88289  35.55018  11.50636  13.29872  25.17435  19.75900   \n",
       "2006-01-03  13.08824  35.60458  11.57815  13.52239  25.56893  20.38565   \n",
       "2006-01-04  13.17470  35.63178  11.58840  13.60373  25.63469  20.69897   \n",
       "\n",
       "              B17517    B05851  B12869     B20167    B18365    B21754  \\\n",
       "2005-12-31  10.44675  30.24456   10.00  246.50262  51.20245  28.29245   \n",
       "2006-01-01  10.44675  30.24456   10.00  246.50262  51.20245  28.29245   \n",
       "2006-01-02  10.44675  30.24456   10.00  246.50262  51.20245  28.29245   \n",
       "2006-01-03  10.75808  30.26963   10.16  235.42289  51.59738  28.32407   \n",
       "2006-01-04  10.89644  30.30422   10.23  234.30632  51.67636  28.32749   \n",
       "\n",
       "              B21401    B21937    B21046    B18646    B11920     B20159  \\\n",
       "2005-12-31  71.00312  13.33306  21.25487  12.79461  18.93086  156.02005   \n",
       "2006-01-01  71.00312  13.33306  21.25487  12.79461  18.93086  156.02005   \n",
       "2006-01-02  71.00312  13.33306  21.25487  12.79461  18.93086  156.02005   \n",
       "2006-01-03  71.96846  13.52990  21.32307  12.95087  18.98386  156.34645   \n",
       "2006-01-04  72.50194  13.58170  21.37990  13.02773  19.07706  155.77525   \n",
       "\n",
       "              B07325    B21967  \n",
       "2005-12-31  23.07846  25.53953  \n",
       "2006-01-01  23.07846  25.53953  \n",
       "2006-01-02  23.07846  25.53953  \n",
       "2006-01-03  23.76154  26.36954  \n",
       "2006-01-04  24.02989  26.80495  "
      ]
     },
     "execution_count": 2,
     "metadata": {},
     "output_type": "execute_result"
    }
   ],
   "source": [
    "df = pd.read_csv('20_funds.csv',index_col=0)\n",
    "df.index = pd.date_range(start='12-31-2005', periods=len(df))\n",
    "funds = df.columns\n",
    "df.head()"
   ]
  },
  {
   "cell_type": "markdown",
   "id": "c823382a",
   "metadata": {},
   "source": [
    "# Visualization"
   ]
  },
  {
   "cell_type": "code",
   "execution_count": 3,
   "id": "b75fca0f",
   "metadata": {
    "scrolled": true
   },
   "outputs": [
    {
     "data": {
      "image/png": "[encoded data removed]",
      "text/plain": [
       "<Figure size 432x288 with 1 Axes>"
      ]
     },
     "metadata": {
      "needs_background": "light"
     },
     "output_type": "display_data"
    }
   ],
   "source": [
    "n = 5\n",
    "for fund in funds[:n]:\n",
    "    plt.plot(df[fund],label=fund)\n",
    "plt.xlabel('time')\n",
    "plt.ylabel('fund NAV')\n",
    "plt.legend()\n",
    "plt.show()"
   ]
  },
  {
   "cell_type": "markdown",
   "id": "f7bf5864",
   "metadata": {},
   "source": [
    "# Functions"
   ]
  },
  {
   "cell_type": "code",
   "execution_count": 4,
   "id": "48dcbfa1",
   "metadata": {},
   "outputs": [],
   "source": [
    "def calcHistoricalReturns(df, rollingPeriod=30, timeHorizon=30, startDate=None, endDate=None):\n",
    "    ''' calculate historical returns of all mutual funds '''\n",
    "    if not startDate: startDate = df.index[0]\n",
    "    if not endDate: endDate = df.index[-1]\n",
    "    rollIdx = np.arange(0,len(df),rollingPeriod)\n",
    "    dfrtn = (df.shift(-timeHorizon)-df)/df\n",
    "    dfrtn = dfrtn.iloc[rollIdx].loc[startDate:endDate]\n",
    "    return dfrtn\n",
    "\n",
    "def calcVaR(dfrtn, funds=None, allocation=None, confidence=0.99, Nsim=1e5, method='bootstrap'):\n",
    "    ''' calculate VaR & CVaR based on dfrtn with user-defined allocation/confidence/Nsim/method '''\n",
    "    if not funds: funds = dfrtn.columns # default: all funds\n",
    "    if not allocation: allocation = np.repeat(1/len(funds),len(funds)) # default: uniform\n",
    "    portRtn = dfrtn[funds].dot(allocation).dropna().to_numpy() # historical portfolio returns\n",
    "    out = {'funds': funds, 'allocation': allocation, 'portRtn': portRtn}\n",
    "    VaR = CVaR = None\n",
    "    if method == 'bootstrap':\n",
    "        # the prescribed approach in instructions\n",
    "        # 1. construct historical portfolio returns, via: portRtn\n",
    "        # 2. bootstrap-simulate VaR & CVaR, via: varSim, cvarSim\n",
    "        Nsim = int(Nsim)\n",
    "        varSim = np.zeros(Nsim)\n",
    "        cvarSim = np.zeros(Nsim)\n",
    "        varIdx = np.ceil(len(portRtn)*(1-confidence)).astype('int')\n",
    "        for i in tqdm(range(Nsim)):\n",
    "            bootRtn = np.sort(np.random.choice(portRtn, len(portRtn)))\n",
    "            varSim[i] = bootRtn[varIdx]\n",
    "            cvarSim[i] = np.mean(bootRtn[:varIdx])\n",
    "        VaR = np.mean(varSim)\n",
    "        CVaR = np.mean(cvarSim)\n",
    "    elif method == 'historical':\n",
    "        portRtnSort = np.sort(portRtn)\n",
    "        varIdx = np.floor(len(portRtn)*(1-confidence)).astype('int')\n",
    "        VaR = portRtnSort[varIdx]\n",
    "        CVaR = np.mean(portRtnSort[:varIdx])\n",
    "    elif method == 'normal':\n",
    "        portRtnMu, portRtnSig = norm.fit(portRtn)\n",
    "        VaR = norm.ppf(1-confidence, loc=portRtnMu, scale=portRtnSig)\n",
    "        CVaR = norm.expect(lambda x: x, loc=portRtnMu, scale=portRtnSig, ub=VaR, conditional=True)\n",
    "    elif method == 't-dist':\n",
    "        portRtnDf, portRtnMu, portRtnSig = t.fit(portRtn)\n",
    "        VaR = t.ppf(1-confidence, portRtnDf, loc=portRtnMu, scale=portRtnSig)\n",
    "        CVaR = t.expect(lambda x: x, (portRtnDf,), loc=portRtnMu, scale=portRtnSig, ub=VaR, conditional=True)\n",
    "    VaR, CVaR = -VaR, -CVaR\n",
    "    out.update({'VaR': VaR, 'CVaR': CVaR})\n",
    "    return out\n",
    "\n",
    "def histBootVaR(df, timeHorizon=30, lookback=None, funds=None, allocation=None, confidence=0.99, Nsim=1e5):\n",
    "    ''' alternative approach to calculating VaR & CVaR, by simulating entire paths of mutual funds, known as historical bootstrap '''\n",
    "    if not funds: funds = df.columns # default: all funds\n",
    "    if not allocation: allocation = np.repeat(1/len(funds),len(funds)) # default: uniform\n",
    "    dfrtn = (df.shift(-1)-df)/df\n",
    "    dfrtn = dfrtn[funds]\n",
    "    if lookback: dfrtn = dfrtn.iloc[-lookback:]\n",
    "    Nsim = int(Nsim)\n",
    "    portNav = np.zeros(Nsim)\n",
    "    for i in tqdm(range(Nsim)):\n",
    "        portNav[i] = (dfrtn.iloc[np.random.choice(len(dfrtn),timeHorizon)]+1).product().dot(allocation)\n",
    "    portRtn = portNav-1\n",
    "    portRtnSort = np.sort(portRtn)\n",
    "    varIdx = np.floor(len(portRtn)*(1-confidence)).astype('int')\n",
    "    VaR = portRtnSort[varIdx]\n",
    "    CVaR = np.mean(portRtnSort[:varIdx])\n",
    "    VaR, CVaR = -VaR, -CVaR\n",
    "    out = {'VaR': VaR, 'CVaR': CVaR}\n",
    "    return out"
   ]
  },
  {
   "cell_type": "markdown",
   "id": "37171d58",
   "metadata": {},
   "source": [
    "# Analysis"
   ]
  },
  {
   "cell_type": "markdown",
   "id": "deba6d94",
   "metadata": {},
   "source": [
    "## Bootstrap portfolio returns\n",
    "\n",
    "We follow the below steps, as prescribed in instructions:\n",
    "\n",
    "1. calculate historical **mutual fund** returns, based on user-defined `rollingPeriod` and `timeHorizon`\n",
    "2. calculate historical **portfolio** returns, constructed with specified `funds` and `allocation`\n",
    "3. **bootstrap-simulate** from historical portfolio returns (the empirical distribution), which leads to `varSim` and `cvarSim`, and the means constitute **VaR** and **CVaR**\n",
    "\n",
    "`calcVaR(dfrtn, ...)` handles this routine, and offers a few other VaR calculation methods for comparison, including `historical`, `normal` and `t-dist`.\n",
    "\n",
    "1. `historical` directly gives VaR and CVaR from historical portfolio returns, by sorting and finding the appropriate threshold\n",
    "2. `normal` assumes a Gaussian distribution for portfolio returns, matching first and second moments, and this is known to severely underestimate tail risks, with very small VaR and CVaR\n",
    "3. `t-dist` assumes a Student's t-distribution for portfolio returns, with a degree of freedom calibrated to historical returns. While it produces heavy tails, it assumes symmetric distribution, which may not be realistic (loss distribution is right-skewed)\n",
    "\n",
    "In the example below, we study calculations for `rollingPeriod=30` and `timeHorizon=30`, i.e. non-overlapping **one-month** rolling returns. First obtain `dfrtn` from `calcHistoricalReturns(df, ...)`, then pass `dfrtn` to `calcVaR(dfrtn, ...)` with a desired method. With bootstrap simulation, we obtain the one-month VaR $0.12233\\%$ and CVaR $0.15118\\%$. Note that these refer to portfolio **loss** over a one-month period. Roughly they have identical order of magnitude with `historical` method, but `historical` makes use of only one sample series, thus the estimated VaR and CVaR are not statistically significant. In contrast, `bootstrap` uses `Nsim` series, with estimations more stable (due to averaging over all bootstrap samples)."
   ]
  },
  {
   "cell_type": "code",
   "execution_count": 5,
   "id": "33322814",
   "metadata": {
    "scrolled": false
   },
   "outputs": [
    {
     "data": {
      "text/html": [
       "<div>\n",
       "<style scoped>\n",
       "    .dataframe tbody tr th:only-of-type {\n",
       "        vertical-align: middle;\n",
       "    }\n",
       "\n",
       "    .dataframe tbody tr th {\n",
       "        vertical-align: top;\n",
       "    }\n",
       "\n",
       "    .dataframe thead th {\n",
       "        text-align: right;\n",
       "    }\n",
       "</style>\n",
       "<table border=\"1\" class=\"dataframe\">\n",
       "  <thead>\n",
       "    <tr style=\"text-align: right;\">\n",
       "      <th></th>\n",
       "      <th>B23409</th>\n",
       "      <th>B00367</th>\n",
       "      <th>B13847</th>\n",
       "      <th>B15553</th>\n",
       "      <th>B10749</th>\n",
       "      <th>B03605</th>\n",
       "      <th>B17517</th>\n",
       "      <th>B05851</th>\n",
       "      <th>B12869</th>\n",
       "      <th>B20167</th>\n",
       "      <th>B18365</th>\n",
       "      <th>B21754</th>\n",
       "      <th>B21401</th>\n",
       "      <th>B21937</th>\n",
       "      <th>B21046</th>\n",
       "      <th>B18646</th>\n",
       "      <th>B11920</th>\n",
       "      <th>B20159</th>\n",
       "      <th>B07325</th>\n",
       "      <th>B21967</th>\n",
       "    </tr>\n",
       "  </thead>\n",
       "  <tbody>\n",
       "    <tr>\n",
       "      <th>2005-12-31</th>\n",
       "      <td>0.046141</td>\n",
       "      <td>0.003443</td>\n",
       "      <td>0.015152</td>\n",
       "      <td>0.035933</td>\n",
       "      <td>0.038140</td>\n",
       "      <td>0.065411</td>\n",
       "      <td>0.055187</td>\n",
       "      <td>0.002578</td>\n",
       "      <td>0.056000</td>\n",
       "      <td>-0.128571</td>\n",
       "      <td>0.029695</td>\n",
       "      <td>6.471691e-04</td>\n",
       "      <td>0.038283</td>\n",
       "      <td>0.020202</td>\n",
       "      <td>0.054011</td>\n",
       "      <td>0.067529</td>\n",
       "      <td>0.013793</td>\n",
       "      <td>0.028766</td>\n",
       "      <td>0.060254</td>\n",
       "      <td>0.131593</td>\n",
       "    </tr>\n",
       "    <tr>\n",
       "      <th>2006-01-30</th>\n",
       "      <td>0.005613</td>\n",
       "      <td>0.002669</td>\n",
       "      <td>0.014048</td>\n",
       "      <td>0.006642</td>\n",
       "      <td>-0.001007</td>\n",
       "      <td>0.007442</td>\n",
       "      <td>0.005231</td>\n",
       "      <td>0.004005</td>\n",
       "      <td>0.001894</td>\n",
       "      <td>0.082367</td>\n",
       "      <td>0.008614</td>\n",
       "      <td>2.882650e-03</td>\n",
       "      <td>-0.001034</td>\n",
       "      <td>0.015993</td>\n",
       "      <td>-0.002030</td>\n",
       "      <td>-0.008274</td>\n",
       "      <td>0.011346</td>\n",
       "      <td>0.000508</td>\n",
       "      <td>0.012961</td>\n",
       "      <td>0.011300</td>\n",
       "    </tr>\n",
       "    <tr>\n",
       "      <th>2006-03-01</th>\n",
       "      <td>0.010367</td>\n",
       "      <td>-0.002486</td>\n",
       "      <td>0.006926</td>\n",
       "      <td>0.004399</td>\n",
       "      <td>0.009482</td>\n",
       "      <td>0.025854</td>\n",
       "      <td>0.030647</td>\n",
       "      <td>-0.006759</td>\n",
       "      <td>0.017013</td>\n",
       "      <td>-0.023642</td>\n",
       "      <td>0.003713</td>\n",
       "      <td>1.107340e-03</td>\n",
       "      <td>0.004484</td>\n",
       "      <td>0.004843</td>\n",
       "      <td>0.036096</td>\n",
       "      <td>0.031491</td>\n",
       "      <td>-0.009879</td>\n",
       "      <td>0.071138</td>\n",
       "      <td>0.036910</td>\n",
       "      <td>-0.000466</td>\n",
       "    </tr>\n",
       "    <tr>\n",
       "      <th>2006-03-31</th>\n",
       "      <td>0.014995</td>\n",
       "      <td>0.001925</td>\n",
       "      <td>-0.002580</td>\n",
       "      <td>0.008029</td>\n",
       "      <td>0.026566</td>\n",
       "      <td>0.039604</td>\n",
       "      <td>0.049696</td>\n",
       "      <td>-0.000390</td>\n",
       "      <td>0.015799</td>\n",
       "      <td>-0.046916</td>\n",
       "      <td>-0.010359</td>\n",
       "      <td>2.414173e-03</td>\n",
       "      <td>0.028159</td>\n",
       "      <td>0.000747</td>\n",
       "      <td>0.009323</td>\n",
       "      <td>0.005258</td>\n",
       "      <td>0.008375</td>\n",
       "      <td>0.055503</td>\n",
       "      <td>0.046511</td>\n",
       "      <td>0.074523</td>\n",
       "    </tr>\n",
       "    <tr>\n",
       "      <th>2006-04-30</th>\n",
       "      <td>-0.040435</td>\n",
       "      <td>0.000384</td>\n",
       "      <td>-0.023276</td>\n",
       "      <td>-0.039826</td>\n",
       "      <td>-0.029785</td>\n",
       "      <td>-0.057143</td>\n",
       "      <td>-0.044445</td>\n",
       "      <td>0.003683</td>\n",
       "      <td>-0.046661</td>\n",
       "      <td>0.056372</td>\n",
       "      <td>-0.032150</td>\n",
       "      <td>3.509704e-07</td>\n",
       "      <td>-0.029726</td>\n",
       "      <td>-0.034328</td>\n",
       "      <td>-0.057365</td>\n",
       "      <td>-0.057562</td>\n",
       "      <td>-0.017026</td>\n",
       "      <td>0.004045</td>\n",
       "      <td>-0.043991</td>\n",
       "      <td>-0.114434</td>\n",
       "    </tr>\n",
       "  </tbody>\n",
       "</table>\n",
       "</div>"
      ],
      "text/plain": [
       "              B23409    B00367    B13847    B15553    B10749    B03605  \\\n",
       "2005-12-31  0.046141  0.003443  0.015152  0.035933  0.038140  0.065411   \n",
       "2006-01-30  0.005613  0.002669  0.014048  0.006642 -0.001007  0.007442   \n",
       "2006-03-01  0.010367 -0.002486  0.006926  0.004399  0.009482  0.025854   \n",
       "2006-03-31  0.014995  0.001925 -0.002580  0.008029  0.026566  0.039604   \n",
       "2006-04-30 -0.040435  0.000384 -0.023276 -0.039826 -0.029785 -0.057143   \n",
       "\n",
       "              B17517    B05851    B12869    B20167    B18365        B21754  \\\n",
       "2005-12-31  0.055187  0.002578  0.056000 -0.128571  0.029695  6.471691e-04   \n",
       "2006-01-30  0.005231  0.004005  0.001894  0.082367  0.008614  2.882650e-03   \n",
       "2006-03-01  0.030647 -0.006759  0.017013 -0.023642  0.003713  1.107340e-03   \n",
       "2006-03-31  0.049696 -0.000390  0.015799 -0.046916 -0.010359  2.414173e-03   \n",
       "2006-04-30 -0.044445  0.003683 -0.046661  0.056372 -0.032150  3.509704e-07   \n",
       "\n",
       "              B21401    B21937    B21046    B18646    B11920    B20159  \\\n",
       "2005-12-31  0.038283  0.020202  0.054011  0.067529  0.013793  0.028766   \n",
       "2006-01-30 -0.001034  0.015993 -0.002030 -0.008274  0.011346  0.000508   \n",
       "2006-03-01  0.004484  0.004843  0.036096  0.031491 -0.009879  0.071138   \n",
       "2006-03-31  0.028159  0.000747  0.009323  0.005258  0.008375  0.055503   \n",
       "2006-04-30 -0.029726 -0.034328 -0.057365 -0.057562 -0.017026  0.004045   \n",
       "\n",
       "              B07325    B21967  \n",
       "2005-12-31  0.060254  0.131593  \n",
       "2006-01-30  0.012961  0.011300  \n",
       "2006-03-01  0.036910 -0.000466  \n",
       "2006-03-31  0.046511  0.074523  \n",
       "2006-04-30 -0.043991 -0.114434  "
      ]
     },
     "execution_count": 5,
     "metadata": {},
     "output_type": "execute_result"
    }
   ],
   "source": [
    "dfrtn = calcHistoricalReturns(df, 30, 30)\n",
    "dfrtn.head()"
   ]
  },
  {
   "cell_type": "code",
   "execution_count": 6,
   "id": "4f14390b",
   "metadata": {
    "scrolled": true
   },
   "outputs": [
    {
     "name": "stderr",
     "output_type": "stream",
     "text": [
      "100%|██████████| 100000/100000 [00:02<00:00, 35924.79it/s]\n"
     ]
    },
    {
     "name": "stdout",
     "output_type": "stream",
     "text": [
      "method = bootstrap, VaR = 0.09459406695868117, CVaR = 0.13663232164504419\n",
      "method = historical, VaR = 0.1549411556439678, CVaR = 0.16770678995134303\n",
      "method = normal, VaR = 0.07019531506080463, CVaR = 0.08120307869127266\n",
      "method = t-dist, VaR = 0.09625891023369396, CVaR = 0.18400253654661636\n"
     ]
    }
   ],
   "source": [
    "for method in ['bootstrap','historical','normal','t-dist']:\n",
    "    simOut = calcVaR(dfrtn, method=method)\n",
    "    VaR, CVaR = simOut['VaR'], simOut['CVaR']\n",
    "    print(f'method = {method}, VaR = {VaR}, CVaR = {CVaR}')"
   ]
  },
  {
   "cell_type": "code",
   "execution_count": 7,
   "id": "c81ed7a2",
   "metadata": {
    "scrolled": false
   },
   "outputs": [
    {
     "name": "stdout",
     "output_type": "stream",
     "text": [
      "portfolio return mean = 0.005373969994835999, sd = 0.03248408627914174\n"
     ]
    },
    {
     "data": {
      "image/png": "[encoded data removed]",
      "text/plain": [
       "<Figure size 432x288 with 1 Axes>"
      ]
     },
     "metadata": {
      "needs_background": "light"
     },
     "output_type": "display_data"
    }
   ],
   "source": [
    "portRtn = simOut['portRtn']\n",
    "print(f'portfolio return mean = {np.mean(portRtn)}, sd = {np.std(portRtn)}')\n",
    "plt.hist(portRtn, color='k', bins=40, density=True)\n",
    "plt.xlabel('portfolio return')\n",
    "plt.ylabel('density')\n",
    "plt.show()"
   ]
  },
  {
   "cell_type": "markdown",
   "id": "ecde9573",
   "metadata": {},
   "source": [
    "### Variation of VaR with `rollingPeriod`\n",
    "\n",
    "Here we study the variation of VaR with `rollingPeriod` $\\delta$. When $\\delta$ is small, returns have large overlapping window, thus more correlated, which leads to more severe VaR. Intuition: let's say there is a market crash, when we have a small $\\delta$, impact of the crash persists for a longer period of time (i.e. reflected in our computed returns), thus low returns stand higher chance getting sampled, leading to large VaR. Below, we use $\\delta = 10,20,...,180$ keeping `timeHorizon` fixed at $180$ (half-year). Indeed VaR and CVaR drop and stabalize with larger $\\delta$, when overlapping is less."
   ]
  },
  {
   "cell_type": "code",
   "execution_count": 8,
   "id": "4ec3ebe5",
   "metadata": {
    "scrolled": false
   },
   "outputs": [
    {
     "name": "stderr",
     "output_type": "stream",
     "text": [
      "100%|██████████| 10000/10000 [00:00<00:00, 19653.39it/s]\n",
      "100%|██████████| 10000/10000 [00:00<00:00, 28895.55it/s]\n",
      "100%|██████████| 10000/10000 [00:00<00:00, 36028.12it/s]\n",
      "100%|██████████| 10000/10000 [00:00<00:00, 37559.68it/s]\n",
      "100%|██████████| 10000/10000 [00:00<00:00, 42261.18it/s]\n",
      "100%|██████████| 10000/10000 [00:00<00:00, 43059.49it/s]\n",
      "100%|██████████| 10000/10000 [00:00<00:00, 43452.94it/s]\n",
      "100%|██████████| 10000/10000 [00:00<00:00, 43997.04it/s]\n",
      "100%|██████████| 10000/10000 [00:00<00:00, 46278.45it/s]\n",
      "100%|██████████| 10000/10000 [00:00<00:00, 46188.91it/s]\n",
      "100%|██████████| 10000/10000 [00:00<00:00, 46362.65it/s]\n",
      "100%|██████████| 10000/10000 [00:00<00:00, 46555.58it/s]\n",
      "100%|██████████| 10000/10000 [00:00<00:00, 46763.78it/s]\n",
      "100%|██████████| 10000/10000 [00:00<00:00, 46988.95it/s]\n",
      "100%|██████████| 10000/10000 [00:00<00:00, 46617.41it/s]\n",
      "100%|██████████| 10000/10000 [00:00<00:00, 46864.36it/s]\n",
      "100%|██████████| 10000/10000 [00:00<00:00, 46950.55it/s]\n",
      "100%|██████████| 10000/10000 [00:00<00:00, 48065.15it/s]\n"
     ]
    },
    {
     "data": {
      "image/png": "[encoded data removed]",
      "text/plain": [
       "<Figure size 432x288 with 1 Axes>"
      ]
     },
     "metadata": {
      "needs_background": "light"
     },
     "output_type": "display_data"
    }
   ],
   "source": [
    "rollingPeriods = np.arange(10,190,10)\n",
    "varList = list()\n",
    "cvarList = list()\n",
    "for rollingPeriod in rollingPeriods:\n",
    "    dfrtn = calcHistoricalReturns(df, rollingPeriod, 180)\n",
    "    simOut = calcVaR(dfrtn, method='bootstrap', Nsim=1e4)\n",
    "    varList.append(simOut['VaR'])\n",
    "    cvarList.append(simOut['CVaR'])\n",
    "plt.plot(rollingPeriods,varList,'k',label='VaR')\n",
    "plt.plot(rollingPeriods,cvarList,'k--',label='CVaR')\n",
    "plt.title(r'Variation of VaR with rollingPeriod ($\\tau=180$)')\n",
    "plt.xlabel('rolling period $\\delta$')\n",
    "plt.ylabel('loss')\n",
    "plt.legend()\n",
    "plt.show()"
   ]
  },
  {
   "cell_type": "markdown",
   "id": "bcff2f00",
   "metadata": {},
   "source": [
    "### Variation of VaR with `start/endDate`\n",
    "\n",
    "Here we study the variation of VaR with `start/endDate` $t_{s/e}$, fixing `rollingPeriod` at $7$ and `timeHorizon` at $7$, i.e. non-overlapping weekly returns. The routine offers flexibility for user to choose different start and end dates, to inspect periods of interest. Historical returns between `startDate` and `endDate`, spanning one year, are fed into VaR routine and we examine the VaR time series. As expected, during financial crisis in 2008, assets do not perform well, which is reflected in the spike in VaR and CVaR; while during the market boom starting 2010 onwards, VaR has relatively low values, of the order $3\\%$."
   ]
  },
  {
   "cell_type": "code",
   "execution_count": 9,
   "id": "ae141801",
   "metadata": {},
   "outputs": [
    {
     "name": "stderr",
     "output_type": "stream",
     "text": [
      "100%|██████████| 10000/10000 [00:00<00:00, 46220.52it/s]\n",
      "100%|██████████| 10000/10000 [00:00<00:00, 46352.92it/s]\n",
      "100%|██████████| 10000/10000 [00:00<00:00, 46346.05it/s]\n",
      "100%|██████████| 10000/10000 [00:00<00:00, 46501.44it/s]\n",
      "100%|██████████| 10000/10000 [00:00<00:00, 46273.81it/s]\n",
      "100%|██████████| 10000/10000 [00:00<00:00, 46331.26it/s]\n",
      "100%|██████████| 10000/10000 [00:00<00:00, 46070.45it/s]\n",
      "100%|██████████| 10000/10000 [00:00<00:00, 46562.14it/s]\n",
      "100%|██████████| 10000/10000 [00:00<00:00, 46405.64it/s]\n",
      "100%|██████████| 10000/10000 [00:00<00:00, 46413.85it/s]\n",
      "100%|██████████| 10000/10000 [00:00<00:00, 46323.53it/s]\n",
      "100%|██████████| 10000/10000 [00:00<00:00, 46566.90it/s]\n"
     ]
    },
    {
     "data": {
      "image/png": "[encoded data removed]",
      "text/plain": [
       "<Figure size 432x288 with 1 Axes>"
      ]
     },
     "metadata": {
      "needs_background": "light"
     },
     "output_type": "display_data"
    }
   ],
   "source": [
    "N = 12\n",
    "T0 = pd.date_range(start='01-01-2006', periods=N, freq='1Y')\n",
    "T1 = T0 + pd.DateOffset(years=1)\n",
    "varList = list()\n",
    "cvarList = list()\n",
    "for i in range(N):\n",
    "    dfrtn = calcHistoricalReturns(df, 7, 7, T0[i], T1[i])\n",
    "    simOut = calcVaR(dfrtn, method='bootstrap', Nsim=1e4)\n",
    "    varList.append(simOut['VaR'])\n",
    "    cvarList.append(simOut['CVaR'])\n",
    "plt.plot(T0,varList,'k',label='VaR')\n",
    "plt.plot(T0,cvarList,'k--',label='CVaR')\n",
    "plt.title(r'Variation of VaR with start/endDate ($\\tau=7$)')\n",
    "plt.xlabel('start date $t_s$')\n",
    "plt.ylabel('loss')\n",
    "plt.legend()\n",
    "plt.show()"
   ]
  },
  {
   "cell_type": "markdown",
   "id": "4412cf5b",
   "metadata": {},
   "source": [
    "## Bootstrap mutual fund paths\n",
    "\n",
    "Here we follow a different bootstrap approach, known as **historical bootstrap**, more commonly used in risk management:\n",
    "\n",
    "1. bootstrap from historical **daily** mutual fund returns to simulate portfolio NAV over the next `timeHorizon`\n",
    "2. repeat bootstrap procedure for `Nsim` scenarios, from which VaR and CVaR are calculated\n",
    "\n",
    "The difference with previous approach is, we simulate entire paths of mutual funds, day by day, for a future `timeHorizon`, and then we have a collection of future scenarios from which VaR and CVaR can be estimated. `histBootVaR(df, ...)` handles this routine. As very old data may be less relavent, parameter `lookback` is included, for example, `lookback=90` uses only the most recent 90 days of data for bootstrap.\n",
    "\n",
    "Below we study calculations bootstrapping from the entire historical timeframe and recent 90 days. As recent 90 days do not involve extreme market crash, VaR and CVaR for `lookback=90` is smaller, by roughly a half. Compared with the previous approach (bootstrap portfolio returns), this approach gives smaller VaR estimates, as we are simulating day by day, and daily gains and losses even out, leading to small VaR."
   ]
  },
  {
   "cell_type": "code",
   "execution_count": 10,
   "id": "6f26aa58",
   "metadata": {
    "scrolled": false
   },
   "outputs": [
    {
     "name": "stderr",
     "output_type": "stream",
     "text": [
      "100%|██████████| 100000/100000 [00:39<00:00, 2550.01it/s]"
     ]
    },
    {
     "name": "stdout",
     "output_type": "stream",
     "text": [
      "method = historical bootstrap, VaR = 0.07972623738332185, CVaR = 0.09354835204704694\n"
     ]
    },
    {
     "name": "stderr",
     "output_type": "stream",
     "text": [
      "\n"
     ]
    }
   ],
   "source": [
    "simOut = histBootVaR(df, 30)\n",
    "VaR, CVaR = simOut['VaR'], simOut['CVaR']\n",
    "print(f'method = historical bootstrap, VaR = {VaR}, CVaR = {CVaR}')"
   ]
  },
  {
   "cell_type": "code",
   "execution_count": 11,
   "id": "3e0c877d",
   "metadata": {},
   "outputs": [
    {
     "name": "stderr",
     "output_type": "stream",
     "text": [
      "100%|██████████| 100000/100000 [00:39<00:00, 2562.45it/s]"
     ]
    },
    {
     "name": "stdout",
     "output_type": "stream",
     "text": [
      "method = historical bootstrap, VaR = 0.03634564642711302, CVaR = 0.04262776968178128\n"
     ]
    },
    {
     "name": "stderr",
     "output_type": "stream",
     "text": [
      "\n"
     ]
    }
   ],
   "source": [
    "simOut = histBootVaR(df, 30, lookback=90)\n",
    "VaR, CVaR = simOut['VaR'], simOut['CVaR']\n",
    "print(f'method = historical bootstrap, VaR = {VaR}, CVaR = {CVaR}')"
   ]
  }
 ],
 "metadata": {
  "kernelspec": {
   "display_name": "Python 3",
   "language": "python",
   "name": "python3"
  },
  "language_info": {
   "codemirror_mode": {
    "name": "ipython",
    "version": 3
   },
   "file_extension": ".py",
   "mimetype": "text/x-python",
   "name": "python",
   "nbconvert_exporter": "python",
   "pygments_lexer": "ipython3",
   "version": "3.8.8"
  }
 },
 "nbformat": 4,
 "nbformat_minor": 5
}
